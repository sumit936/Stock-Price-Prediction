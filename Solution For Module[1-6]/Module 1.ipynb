{
 "cells": [
  {
   "cell_type": "code",
   "execution_count": 1,
   "metadata": {},
   "outputs": [],
   "source": [
    "import numpy as np\n",
    "import pandas as pd"
   ]
  },
  {
   "cell_type": "markdown",
   "metadata": {},
   "source": [
    "##### 1.1"
   ]
  },
  {
   "cell_type": "code",
   "execution_count": 2,
   "metadata": {
    "scrolled": true
   },
   "outputs": [],
   "source": [
    "dataset = pd.read_csv(\"C:\\\\Users\\\\HP\\\\Desktop\\\\Machine learning\\\\Projects\\\\Stock Price prediction\\\\Dataset\\\\LALPATHLAB.csv\")"
   ]
  },
  {
   "cell_type": "code",
   "execution_count": 3,
   "metadata": {},
   "outputs": [
    {
     "output_type": "execute_result",
     "data": {
      "text/plain": [
       "       Symbol Series         Date  Prev Close  Open Price  High Price  \\\n",
       "0  LALPATHLAB     EQ  15-May-2017      891.15       895.0      914.15   \n",
       "1  LALPATHLAB     EQ  16-May-2017      900.60       910.0      925.00   \n",
       "2  LALPATHLAB     EQ  17-May-2017      910.95       913.0      925.00   \n",
       "3  LALPATHLAB     EQ  18-May-2017      911.70       908.0      919.35   \n",
       "4  LALPATHLAB     EQ  19-May-2017      909.75       917.0      917.00   \n",
       "\n",
       "   Low Price  Last Price  Close Price  Average Price  Total Traded Quantity  \\\n",
       "0     881.00      912.00       900.60         889.35                 257655   \n",
       "1     895.05      909.40       910.95         914.57                 104896   \n",
       "2     909.00      912.05       911.70         917.19                  72460   \n",
       "3     903.05      906.00       909.75         914.12                  37707   \n",
       "4     905.80      910.00       910.25         910.61                  81082   \n",
       "\n",
       "       Turnover  No. of Trades  Deliverable Qty  % Dly Qt to Traded Qty  \n",
       "0  2.291453e+08          15451           174775                   67.83  \n",
       "1  9.593430e+07          13001            75813                   72.27  \n",
       "2  6.645960e+07           2802            53829                   74.29  \n",
       "3  3.446889e+07           2731            24836                   65.87  \n",
       "4  7.383375e+07           4430            69926                   86.24  "
      ],
      "text/html": "<div>\n<style scoped>\n    .dataframe tbody tr th:only-of-type {\n        vertical-align: middle;\n    }\n\n    .dataframe tbody tr th {\n        vertical-align: top;\n    }\n\n    .dataframe thead th {\n        text-align: right;\n    }\n</style>\n<table border=\"1\" class=\"dataframe\">\n  <thead>\n    <tr style=\"text-align: right;\">\n      <th></th>\n      <th>Symbol</th>\n      <th>Series</th>\n      <th>Date</th>\n      <th>Prev Close</th>\n      <th>Open Price</th>\n      <th>High Price</th>\n      <th>Low Price</th>\n      <th>Last Price</th>\n      <th>Close Price</th>\n      <th>Average Price</th>\n      <th>Total Traded Quantity</th>\n      <th>Turnover</th>\n      <th>No. of Trades</th>\n      <th>Deliverable Qty</th>\n      <th>% Dly Qt to Traded Qty</th>\n    </tr>\n  </thead>\n  <tbody>\n    <tr>\n      <th>0</th>\n      <td>LALPATHLAB</td>\n      <td>EQ</td>\n      <td>15-May-2017</td>\n      <td>891.15</td>\n      <td>895.0</td>\n      <td>914.15</td>\n      <td>881.00</td>\n      <td>912.00</td>\n      <td>900.60</td>\n      <td>889.35</td>\n      <td>257655</td>\n      <td>2.291453e+08</td>\n      <td>15451</td>\n      <td>174775</td>\n      <td>67.83</td>\n    </tr>\n    <tr>\n      <th>1</th>\n      <td>LALPATHLAB</td>\n      <td>EQ</td>\n      <td>16-May-2017</td>\n      <td>900.60</td>\n      <td>910.0</td>\n      <td>925.00</td>\n      <td>895.05</td>\n      <td>909.40</td>\n      <td>910.95</td>\n      <td>914.57</td>\n      <td>104896</td>\n      <td>9.593430e+07</td>\n      <td>13001</td>\n      <td>75813</td>\n      <td>72.27</td>\n    </tr>\n    <tr>\n      <th>2</th>\n      <td>LALPATHLAB</td>\n      <td>EQ</td>\n      <td>17-May-2017</td>\n      <td>910.95</td>\n      <td>913.0</td>\n      <td>925.00</td>\n      <td>909.00</td>\n      <td>912.05</td>\n      <td>911.70</td>\n      <td>917.19</td>\n      <td>72460</td>\n      <td>6.645960e+07</td>\n      <td>2802</td>\n      <td>53829</td>\n      <td>74.29</td>\n    </tr>\n    <tr>\n      <th>3</th>\n      <td>LALPATHLAB</td>\n      <td>EQ</td>\n      <td>18-May-2017</td>\n      <td>911.70</td>\n      <td>908.0</td>\n      <td>919.35</td>\n      <td>903.05</td>\n      <td>906.00</td>\n      <td>909.75</td>\n      <td>914.12</td>\n      <td>37707</td>\n      <td>3.446889e+07</td>\n      <td>2731</td>\n      <td>24836</td>\n      <td>65.87</td>\n    </tr>\n    <tr>\n      <th>4</th>\n      <td>LALPATHLAB</td>\n      <td>EQ</td>\n      <td>19-May-2017</td>\n      <td>909.75</td>\n      <td>917.0</td>\n      <td>917.00</td>\n      <td>905.80</td>\n      <td>910.00</td>\n      <td>910.25</td>\n      <td>910.61</td>\n      <td>81082</td>\n      <td>7.383375e+07</td>\n      <td>4430</td>\n      <td>69926</td>\n      <td>86.24</td>\n    </tr>\n  </tbody>\n</table>\n</div>"
     },
     "metadata": {},
     "execution_count": 3
    }
   ],
   "source": [
    "dataset.head()"
   ]
  },
  {
   "cell_type": "code",
   "execution_count": 4,
   "metadata": {},
   "outputs": [
    {
     "output_type": "execute_result",
     "data": {
      "text/plain": [
       "array(['EQ', 'BL'], dtype=object)"
      ]
     },
     "metadata": {},
     "execution_count": 4
    }
   ],
   "source": [
    "dataset['Series'].unique()"
   ]
  },
  {
   "cell_type": "code",
   "execution_count": 5,
   "metadata": {
    "scrolled": true
   },
   "outputs": [
    {
     "output_type": "execute_result",
     "data": {
      "text/plain": [
       "         Symbol Series         Date  Prev Close  Open Price  High Price  \\\n",
       "0    LALPATHLAB     EQ  15-May-2017      891.15       895.0      914.15   \n",
       "1    LALPATHLAB     EQ  16-May-2017      900.60       910.0      925.00   \n",
       "2    LALPATHLAB     EQ  17-May-2017      910.95       913.0      925.00   \n",
       "3    LALPATHLAB     EQ  18-May-2017      911.70       908.0      919.35   \n",
       "4    LALPATHLAB     EQ  19-May-2017      909.75       917.0      917.00   \n",
       "..          ...    ...          ...         ...         ...         ...   \n",
       "490  LALPATHLAB     EQ  07-May-2019     1024.95      1015.7     1031.95   \n",
       "491  LALPATHLAB     EQ  08-May-2019     1013.10      1014.0     1019.85   \n",
       "492  LALPATHLAB     EQ  09-May-2019     1006.10      1014.0     1014.00   \n",
       "493  LALPATHLAB     EQ  10-May-2019      982.90       989.9      994.30   \n",
       "494  LALPATHLAB     EQ  13-May-2019      980.65       970.8      996.00   \n",
       "\n",
       "     Low Price  Last Price  Close Price  Average Price  Total Traded Quantity  \\\n",
       "0       881.00      912.00       900.60         889.35                 257655   \n",
       "1       895.05      909.40       910.95         914.57                 104896   \n",
       "2       909.00      912.05       911.70         917.19                  72460   \n",
       "3       903.05      906.00       909.75         914.12                  37707   \n",
       "4       905.80      910.00       910.25         910.61                  81082   \n",
       "..         ...         ...          ...            ...                    ...   \n",
       "490    1006.90     1013.00      1013.10        1020.66                  20113   \n",
       "491    1001.90     1002.00      1006.10        1010.90                  18048   \n",
       "492     977.70      979.90       982.90         987.36                  60539   \n",
       "493     963.60      980.00       980.65         980.71                  30568   \n",
       "494     960.00      975.00       976.25         974.21                  37187   \n",
       "\n",
       "         Turnover  No. of Trades  Deliverable Qty  % Dly Qt to Traded Qty  \n",
       "0    2.291453e+08          15451           174775                   67.83  \n",
       "1    9.593430e+07          13001            75813                   72.27  \n",
       "2    6.645960e+07           2802            53829                   74.29  \n",
       "3    3.446889e+07           2731            24836                   65.87  \n",
       "4    7.383375e+07           4430            69926                   86.24  \n",
       "..            ...            ...              ...                     ...  \n",
       "490  2.052851e+07           3628            11587                   57.61  \n",
       "491  1.824473e+07           4175            11239                   62.27  \n",
       "492  5.977355e+07           8169            37303                   61.62  \n",
       "493  2.997840e+07           4618            19097                   62.47  \n",
       "494  3.622810e+07           6798            23772                   63.93  \n",
       "\n",
       "[494 rows x 15 columns]"
      ],
      "text/html": "<div>\n<style scoped>\n    .dataframe tbody tr th:only-of-type {\n        vertical-align: middle;\n    }\n\n    .dataframe tbody tr th {\n        vertical-align: top;\n    }\n\n    .dataframe thead th {\n        text-align: right;\n    }\n</style>\n<table border=\"1\" class=\"dataframe\">\n  <thead>\n    <tr style=\"text-align: right;\">\n      <th></th>\n      <th>Symbol</th>\n      <th>Series</th>\n      <th>Date</th>\n      <th>Prev Close</th>\n      <th>Open Price</th>\n      <th>High Price</th>\n      <th>Low Price</th>\n      <th>Last Price</th>\n      <th>Close Price</th>\n      <th>Average Price</th>\n      <th>Total Traded Quantity</th>\n      <th>Turnover</th>\n      <th>No. of Trades</th>\n      <th>Deliverable Qty</th>\n      <th>% Dly Qt to Traded Qty</th>\n    </tr>\n  </thead>\n  <tbody>\n    <tr>\n      <th>0</th>\n      <td>LALPATHLAB</td>\n      <td>EQ</td>\n      <td>15-May-2017</td>\n      <td>891.15</td>\n      <td>895.0</td>\n      <td>914.15</td>\n      <td>881.00</td>\n      <td>912.00</td>\n      <td>900.60</td>\n      <td>889.35</td>\n      <td>257655</td>\n      <td>2.291453e+08</td>\n      <td>15451</td>\n      <td>174775</td>\n      <td>67.83</td>\n    </tr>\n    <tr>\n      <th>1</th>\n      <td>LALPATHLAB</td>\n      <td>EQ</td>\n      <td>16-May-2017</td>\n      <td>900.60</td>\n      <td>910.0</td>\n      <td>925.00</td>\n      <td>895.05</td>\n      <td>909.40</td>\n      <td>910.95</td>\n      <td>914.57</td>\n      <td>104896</td>\n      <td>9.593430e+07</td>\n      <td>13001</td>\n      <td>75813</td>\n      <td>72.27</td>\n    </tr>\n    <tr>\n      <th>2</th>\n      <td>LALPATHLAB</td>\n      <td>EQ</td>\n      <td>17-May-2017</td>\n      <td>910.95</td>\n      <td>913.0</td>\n      <td>925.00</td>\n      <td>909.00</td>\n      <td>912.05</td>\n      <td>911.70</td>\n      <td>917.19</td>\n      <td>72460</td>\n      <td>6.645960e+07</td>\n      <td>2802</td>\n      <td>53829</td>\n      <td>74.29</td>\n    </tr>\n    <tr>\n      <th>3</th>\n      <td>LALPATHLAB</td>\n      <td>EQ</td>\n      <td>18-May-2017</td>\n      <td>911.70</td>\n      <td>908.0</td>\n      <td>919.35</td>\n      <td>903.05</td>\n      <td>906.00</td>\n      <td>909.75</td>\n      <td>914.12</td>\n      <td>37707</td>\n      <td>3.446889e+07</td>\n      <td>2731</td>\n      <td>24836</td>\n      <td>65.87</td>\n    </tr>\n    <tr>\n      <th>4</th>\n      <td>LALPATHLAB</td>\n      <td>EQ</td>\n      <td>19-May-2017</td>\n      <td>909.75</td>\n      <td>917.0</td>\n      <td>917.00</td>\n      <td>905.80</td>\n      <td>910.00</td>\n      <td>910.25</td>\n      <td>910.61</td>\n      <td>81082</td>\n      <td>7.383375e+07</td>\n      <td>4430</td>\n      <td>69926</td>\n      <td>86.24</td>\n    </tr>\n    <tr>\n      <th>...</th>\n      <td>...</td>\n      <td>...</td>\n      <td>...</td>\n      <td>...</td>\n      <td>...</td>\n      <td>...</td>\n      <td>...</td>\n      <td>...</td>\n      <td>...</td>\n      <td>...</td>\n      <td>...</td>\n      <td>...</td>\n      <td>...</td>\n      <td>...</td>\n      <td>...</td>\n    </tr>\n    <tr>\n      <th>490</th>\n      <td>LALPATHLAB</td>\n      <td>EQ</td>\n      <td>07-May-2019</td>\n      <td>1024.95</td>\n      <td>1015.7</td>\n      <td>1031.95</td>\n      <td>1006.90</td>\n      <td>1013.00</td>\n      <td>1013.10</td>\n      <td>1020.66</td>\n      <td>20113</td>\n      <td>2.052851e+07</td>\n      <td>3628</td>\n      <td>11587</td>\n      <td>57.61</td>\n    </tr>\n    <tr>\n      <th>491</th>\n      <td>LALPATHLAB</td>\n      <td>EQ</td>\n      <td>08-May-2019</td>\n      <td>1013.10</td>\n      <td>1014.0</td>\n      <td>1019.85</td>\n      <td>1001.90</td>\n      <td>1002.00</td>\n      <td>1006.10</td>\n      <td>1010.90</td>\n      <td>18048</td>\n      <td>1.824473e+07</td>\n      <td>4175</td>\n      <td>11239</td>\n      <td>62.27</td>\n    </tr>\n    <tr>\n      <th>492</th>\n      <td>LALPATHLAB</td>\n      <td>EQ</td>\n      <td>09-May-2019</td>\n      <td>1006.10</td>\n      <td>1014.0</td>\n      <td>1014.00</td>\n      <td>977.70</td>\n      <td>979.90</td>\n      <td>982.90</td>\n      <td>987.36</td>\n      <td>60539</td>\n      <td>5.977355e+07</td>\n      <td>8169</td>\n      <td>37303</td>\n      <td>61.62</td>\n    </tr>\n    <tr>\n      <th>493</th>\n      <td>LALPATHLAB</td>\n      <td>EQ</td>\n      <td>10-May-2019</td>\n      <td>982.90</td>\n      <td>989.9</td>\n      <td>994.30</td>\n      <td>963.60</td>\n      <td>980.00</td>\n      <td>980.65</td>\n      <td>980.71</td>\n      <td>30568</td>\n      <td>2.997840e+07</td>\n      <td>4618</td>\n      <td>19097</td>\n      <td>62.47</td>\n    </tr>\n    <tr>\n      <th>494</th>\n      <td>LALPATHLAB</td>\n      <td>EQ</td>\n      <td>13-May-2019</td>\n      <td>980.65</td>\n      <td>970.8</td>\n      <td>996.00</td>\n      <td>960.00</td>\n      <td>975.00</td>\n      <td>976.25</td>\n      <td>974.21</td>\n      <td>37187</td>\n      <td>3.622810e+07</td>\n      <td>6798</td>\n      <td>23772</td>\n      <td>63.93</td>\n    </tr>\n  </tbody>\n</table>\n<p>494 rows × 15 columns</p>\n</div>"
     },
     "metadata": {},
     "execution_count": 5
    }
   ],
   "source": [
    "dataset = dataset[dataset[\"Series\"]=='EQ']\n",
    "dataset"
   ]
  },
  {
   "cell_type": "code",
   "execution_count": 6,
   "metadata": {},
   "outputs": [
    {
     "output_type": "stream",
     "name": "stdout",
     "text": [
      "['EQ']\n"
     ]
    }
   ],
   "source": [
    "print(dataset[\"Series\"].unique())"
   ]
  },
  {
   "cell_type": "code",
   "execution_count": 7,
   "metadata": {},
   "outputs": [
    {
     "output_type": "execute_result",
     "data": {
      "text/plain": [
       "(494, 15)"
      ]
     },
     "metadata": {},
     "execution_count": 7
    }
   ],
   "source": [
    "dataset.shape"
   ]
  },
  {
   "cell_type": "markdown",
   "metadata": {},
   "source": [
    "#### it's strange after removing the BL category row should be reduced but it didn't!"
   ]
  },
  {
   "cell_type": "code",
   "execution_count": 8,
   "metadata": {},
   "outputs": [
    {
     "output_type": "execute_result",
     "data": {
      "text/plain": [
       "        Prev Close   Open Price   High Price    Low Price   Last Price  \\\n",
       "count   494.000000   494.000000   494.000000   494.000000   494.000000   \n",
       "mean    908.446457   909.126113   922.827834   894.349798   907.374494   \n",
       "std      80.013571    79.758601    83.856648    77.389389    80.109065   \n",
       "min     737.350000   748.450000   749.000000   723.050000   739.000000   \n",
       "25%     857.762500   857.625000   872.050000   844.437500   854.062500   \n",
       "50%     896.650000   897.975000   907.950000   882.025000   896.000000   \n",
       "75%     957.050000   953.037500   973.562500   939.675000   955.000000   \n",
       "max    1089.500000  1100.000000  1125.000000  1071.300000  1096.000000   \n",
       "\n",
       "       Close Price  Average Price  Total Traded Quantity      Turnover  \\\n",
       "count   494.000000     494.000000           4.940000e+02  4.940000e+02   \n",
       "mean    908.618725     909.155061           8.664805e+04  7.770704e+07   \n",
       "std      80.067847      81.071000           1.390295e+05  1.173757e+08   \n",
       "min     737.350000     734.620000           3.903000e+03  3.460254e+06   \n",
       "25%     857.762500     859.447500           2.944900e+04  2.731598e+07   \n",
       "50%     897.125000     895.120000           4.722250e+04  4.462565e+07   \n",
       "75%     957.962500     956.885000           9.080075e+04  8.202401e+07   \n",
       "max    1089.500000    1096.910000           2.047290e+06  1.603652e+09   \n",
       "\n",
       "       No. of Trades  Deliverable Qty  % Dly Qt to Traded Qty  \n",
       "count     494.000000     4.940000e+02              494.000000  \n",
       "mean     5471.983806     5.632622e+04               58.449312  \n",
       "std      4100.423859     1.009753e+05               18.407078  \n",
       "min       284.000000     1.959000e+03                7.250000  \n",
       "25%      2863.500000     1.435025e+04               46.817500  \n",
       "50%      4475.500000     2.555350e+04               58.405000  \n",
       "75%      7041.250000     5.656950e+04               71.662500  \n",
       "max     42803.000000     1.226065e+06               98.290000  "
      ],
      "text/html": "<div>\n<style scoped>\n    .dataframe tbody tr th:only-of-type {\n        vertical-align: middle;\n    }\n\n    .dataframe tbody tr th {\n        vertical-align: top;\n    }\n\n    .dataframe thead th {\n        text-align: right;\n    }\n</style>\n<table border=\"1\" class=\"dataframe\">\n  <thead>\n    <tr style=\"text-align: right;\">\n      <th></th>\n      <th>Prev Close</th>\n      <th>Open Price</th>\n      <th>High Price</th>\n      <th>Low Price</th>\n      <th>Last Price</th>\n      <th>Close Price</th>\n      <th>Average Price</th>\n      <th>Total Traded Quantity</th>\n      <th>Turnover</th>\n      <th>No. of Trades</th>\n      <th>Deliverable Qty</th>\n      <th>% Dly Qt to Traded Qty</th>\n    </tr>\n  </thead>\n  <tbody>\n    <tr>\n      <th>count</th>\n      <td>494.000000</td>\n      <td>494.000000</td>\n      <td>494.000000</td>\n      <td>494.000000</td>\n      <td>494.000000</td>\n      <td>494.000000</td>\n      <td>494.000000</td>\n      <td>4.940000e+02</td>\n      <td>4.940000e+02</td>\n      <td>494.000000</td>\n      <td>4.940000e+02</td>\n      <td>494.000000</td>\n    </tr>\n    <tr>\n      <th>mean</th>\n      <td>908.446457</td>\n      <td>909.126113</td>\n      <td>922.827834</td>\n      <td>894.349798</td>\n      <td>907.374494</td>\n      <td>908.618725</td>\n      <td>909.155061</td>\n      <td>8.664805e+04</td>\n      <td>7.770704e+07</td>\n      <td>5471.983806</td>\n      <td>5.632622e+04</td>\n      <td>58.449312</td>\n    </tr>\n    <tr>\n      <th>std</th>\n      <td>80.013571</td>\n      <td>79.758601</td>\n      <td>83.856648</td>\n      <td>77.389389</td>\n      <td>80.109065</td>\n      <td>80.067847</td>\n      <td>81.071000</td>\n      <td>1.390295e+05</td>\n      <td>1.173757e+08</td>\n      <td>4100.423859</td>\n      <td>1.009753e+05</td>\n      <td>18.407078</td>\n    </tr>\n    <tr>\n      <th>min</th>\n      <td>737.350000</td>\n      <td>748.450000</td>\n      <td>749.000000</td>\n      <td>723.050000</td>\n      <td>739.000000</td>\n      <td>737.350000</td>\n      <td>734.620000</td>\n      <td>3.903000e+03</td>\n      <td>3.460254e+06</td>\n      <td>284.000000</td>\n      <td>1.959000e+03</td>\n      <td>7.250000</td>\n    </tr>\n    <tr>\n      <th>25%</th>\n      <td>857.762500</td>\n      <td>857.625000</td>\n      <td>872.050000</td>\n      <td>844.437500</td>\n      <td>854.062500</td>\n      <td>857.762500</td>\n      <td>859.447500</td>\n      <td>2.944900e+04</td>\n      <td>2.731598e+07</td>\n      <td>2863.500000</td>\n      <td>1.435025e+04</td>\n      <td>46.817500</td>\n    </tr>\n    <tr>\n      <th>50%</th>\n      <td>896.650000</td>\n      <td>897.975000</td>\n      <td>907.950000</td>\n      <td>882.025000</td>\n      <td>896.000000</td>\n      <td>897.125000</td>\n      <td>895.120000</td>\n      <td>4.722250e+04</td>\n      <td>4.462565e+07</td>\n      <td>4475.500000</td>\n      <td>2.555350e+04</td>\n      <td>58.405000</td>\n    </tr>\n    <tr>\n      <th>75%</th>\n      <td>957.050000</td>\n      <td>953.037500</td>\n      <td>973.562500</td>\n      <td>939.675000</td>\n      <td>955.000000</td>\n      <td>957.962500</td>\n      <td>956.885000</td>\n      <td>9.080075e+04</td>\n      <td>8.202401e+07</td>\n      <td>7041.250000</td>\n      <td>5.656950e+04</td>\n      <td>71.662500</td>\n    </tr>\n    <tr>\n      <th>max</th>\n      <td>1089.500000</td>\n      <td>1100.000000</td>\n      <td>1125.000000</td>\n      <td>1071.300000</td>\n      <td>1096.000000</td>\n      <td>1089.500000</td>\n      <td>1096.910000</td>\n      <td>2.047290e+06</td>\n      <td>1.603652e+09</td>\n      <td>42803.000000</td>\n      <td>1.226065e+06</td>\n      <td>98.290000</td>\n    </tr>\n  </tbody>\n</table>\n</div>"
     },
     "metadata": {},
     "execution_count": 8
    }
   ],
   "source": [
    "#Descriptive statistics\n",
    "dataset.describe()"
   ]
  },
  {
   "cell_type": "markdown",
   "metadata": {},
   "source": [
    "#### Descriptive statistics looks good, mean value of every column is almost close to its maximum value of respective column"
   ]
  },
  {
   "cell_type": "code",
   "execution_count": 9,
   "metadata": {},
   "outputs": [
    {
     "output_type": "stream",
     "name": "stdout",
     "text": [
      "<class 'pandas.core.frame.DataFrame'>\nInt64Index: 494 entries, 0 to 494\nData columns (total 15 columns):\n #   Column                  Non-Null Count  Dtype  \n---  ------                  --------------  -----  \n 0   Symbol                  494 non-null    object \n 1   Series                  494 non-null    object \n 2   Date                    494 non-null    object \n 3   Prev Close              494 non-null    float64\n 4   Open Price              494 non-null    float64\n 5   High Price              494 non-null    float64\n 6   Low Price               494 non-null    float64\n 7   Last Price              494 non-null    float64\n 8   Close Price             494 non-null    float64\n 9   Average Price           494 non-null    float64\n 10  Total Traded Quantity   494 non-null    int64  \n 11  Turnover                494 non-null    float64\n 12  No. of Trades           494 non-null    int64  \n 13  Deliverable Qty         494 non-null    int64  \n 14  % Dly Qt to Traded Qty  494 non-null    float64\ndtypes: float64(9), int64(3), object(3)\nmemory usage: 61.8+ KB\n"
     ]
    }
   ],
   "source": [
    "dataset.info()"
   ]
  },
  {
   "cell_type": "markdown",
   "metadata": {},
   "source": [
    "#### 1.2"
   ]
  },
  {
   "cell_type": "code",
   "execution_count": 10,
   "metadata": {},
   "outputs": [],
   "source": [
    "#changing data type of data column from object to datatime\n",
    "dataset['Date'] = pd.to_datetime(dataset['Date'])"
   ]
  },
  {
   "cell_type": "code",
   "execution_count": 11,
   "metadata": {
    "scrolled": true
   },
   "outputs": [],
   "source": [
    "#since the dataframe is already sorted in datewise order \n",
    "#so just retrieving the last 90 rows of dataset\n",
    "index = dataset.shape[0]-90\n",
    "new_df = dataset.iloc[index:,:].copy()"
   ]
  },
  {
   "cell_type": "code",
   "execution_count": 12,
   "metadata": {
    "scrolled": true
   },
   "outputs": [
    {
     "output_type": "execute_result",
     "data": {
      "text/plain": [
       "        Symbol Series       Date  Prev Close  Open Price  High Price  \\\n",
       "0   LALPATHLAB     EQ 2018-12-31      908.50      911.25      922.00   \n",
       "1   LALPATHLAB     EQ 2019-01-01      910.30      909.95      928.00   \n",
       "2   LALPATHLAB     EQ 2019-01-02      924.80      924.00      924.00   \n",
       "3   LALPATHLAB     EQ 2019-01-03      915.20      909.70      918.00   \n",
       "4   LALPATHLAB     EQ 2019-01-04      913.05      908.00      944.85   \n",
       "..         ...    ...        ...         ...         ...         ...   \n",
       "85  LALPATHLAB     EQ 2019-05-07     1024.95     1015.70     1031.95   \n",
       "86  LALPATHLAB     EQ 2019-05-08     1013.10     1014.00     1019.85   \n",
       "87  LALPATHLAB     EQ 2019-05-09     1006.10     1014.00     1014.00   \n",
       "88  LALPATHLAB     EQ 2019-05-10      982.90      989.90      994.30   \n",
       "89  LALPATHLAB     EQ 2019-05-13      980.65      970.80      996.00   \n",
       "\n",
       "    Low Price  Last Price  Close Price  Average Price  Total Traded Quantity  \\\n",
       "0      890.95      909.95       910.30         906.08                 341688   \n",
       "1      902.45      925.00       924.80         912.79                 157587   \n",
       "2      900.00      916.00       915.20         910.93                  94182   \n",
       "3      897.10      910.00       913.05         907.57                  71756   \n",
       "4      908.00      935.45       940.10         937.58                 156645   \n",
       "..        ...         ...          ...            ...                    ...   \n",
       "85    1006.90     1013.00      1013.10        1020.66                  20113   \n",
       "86    1001.90     1002.00      1006.10        1010.90                  18048   \n",
       "87     977.70      979.90       982.90         987.36                  60539   \n",
       "88     963.60      980.00       980.65         980.71                  30568   \n",
       "89     960.00      975.00       976.25         974.21                  37187   \n",
       "\n",
       "        Turnover  No. of Trades  Deliverable Qty  % Dly Qt to Traded Qty  \n",
       "0   3.095975e+08          20516           286162                   83.75  \n",
       "1   1.438439e+08           4646           112675                   71.50  \n",
       "2   8.579362e+07           4481            50150                   53.25  \n",
       "3   6.512356e+07           3283            30624                   42.68  \n",
       "4   1.468668e+08           7745           102261                   65.28  \n",
       "..           ...            ...              ...                     ...  \n",
       "85  2.052851e+07           3628            11587                   57.61  \n",
       "86  1.824473e+07           4175            11239                   62.27  \n",
       "87  5.977355e+07           8169            37303                   61.62  \n",
       "88  2.997840e+07           4618            19097                   62.47  \n",
       "89  3.622810e+07           6798            23772                   63.93  \n",
       "\n",
       "[90 rows x 15 columns]"
      ],
      "text/html": "<div>\n<style scoped>\n    .dataframe tbody tr th:only-of-type {\n        vertical-align: middle;\n    }\n\n    .dataframe tbody tr th {\n        vertical-align: top;\n    }\n\n    .dataframe thead th {\n        text-align: right;\n    }\n</style>\n<table border=\"1\" class=\"dataframe\">\n  <thead>\n    <tr style=\"text-align: right;\">\n      <th></th>\n      <th>Symbol</th>\n      <th>Series</th>\n      <th>Date</th>\n      <th>Prev Close</th>\n      <th>Open Price</th>\n      <th>High Price</th>\n      <th>Low Price</th>\n      <th>Last Price</th>\n      <th>Close Price</th>\n      <th>Average Price</th>\n      <th>Total Traded Quantity</th>\n      <th>Turnover</th>\n      <th>No. of Trades</th>\n      <th>Deliverable Qty</th>\n      <th>% Dly Qt to Traded Qty</th>\n    </tr>\n  </thead>\n  <tbody>\n    <tr>\n      <th>0</th>\n      <td>LALPATHLAB</td>\n      <td>EQ</td>\n      <td>2018-12-31</td>\n      <td>908.50</td>\n      <td>911.25</td>\n      <td>922.00</td>\n      <td>890.95</td>\n      <td>909.95</td>\n      <td>910.30</td>\n      <td>906.08</td>\n      <td>341688</td>\n      <td>3.095975e+08</td>\n      <td>20516</td>\n      <td>286162</td>\n      <td>83.75</td>\n    </tr>\n    <tr>\n      <th>1</th>\n      <td>LALPATHLAB</td>\n      <td>EQ</td>\n      <td>2019-01-01</td>\n      <td>910.30</td>\n      <td>909.95</td>\n      <td>928.00</td>\n      <td>902.45</td>\n      <td>925.00</td>\n      <td>924.80</td>\n      <td>912.79</td>\n      <td>157587</td>\n      <td>1.438439e+08</td>\n      <td>4646</td>\n      <td>112675</td>\n      <td>71.50</td>\n    </tr>\n    <tr>\n      <th>2</th>\n      <td>LALPATHLAB</td>\n      <td>EQ</td>\n      <td>2019-01-02</td>\n      <td>924.80</td>\n      <td>924.00</td>\n      <td>924.00</td>\n      <td>900.00</td>\n      <td>916.00</td>\n      <td>915.20</td>\n      <td>910.93</td>\n      <td>94182</td>\n      <td>8.579362e+07</td>\n      <td>4481</td>\n      <td>50150</td>\n      <td>53.25</td>\n    </tr>\n    <tr>\n      <th>3</th>\n      <td>LALPATHLAB</td>\n      <td>EQ</td>\n      <td>2019-01-03</td>\n      <td>915.20</td>\n      <td>909.70</td>\n      <td>918.00</td>\n      <td>897.10</td>\n      <td>910.00</td>\n      <td>913.05</td>\n      <td>907.57</td>\n      <td>71756</td>\n      <td>6.512356e+07</td>\n      <td>3283</td>\n      <td>30624</td>\n      <td>42.68</td>\n    </tr>\n    <tr>\n      <th>4</th>\n      <td>LALPATHLAB</td>\n      <td>EQ</td>\n      <td>2019-01-04</td>\n      <td>913.05</td>\n      <td>908.00</td>\n      <td>944.85</td>\n      <td>908.00</td>\n      <td>935.45</td>\n      <td>940.10</td>\n      <td>937.58</td>\n      <td>156645</td>\n      <td>1.468668e+08</td>\n      <td>7745</td>\n      <td>102261</td>\n      <td>65.28</td>\n    </tr>\n    <tr>\n      <th>...</th>\n      <td>...</td>\n      <td>...</td>\n      <td>...</td>\n      <td>...</td>\n      <td>...</td>\n      <td>...</td>\n      <td>...</td>\n      <td>...</td>\n      <td>...</td>\n      <td>...</td>\n      <td>...</td>\n      <td>...</td>\n      <td>...</td>\n      <td>...</td>\n      <td>...</td>\n    </tr>\n    <tr>\n      <th>85</th>\n      <td>LALPATHLAB</td>\n      <td>EQ</td>\n      <td>2019-05-07</td>\n      <td>1024.95</td>\n      <td>1015.70</td>\n      <td>1031.95</td>\n      <td>1006.90</td>\n      <td>1013.00</td>\n      <td>1013.10</td>\n      <td>1020.66</td>\n      <td>20113</td>\n      <td>2.052851e+07</td>\n      <td>3628</td>\n      <td>11587</td>\n      <td>57.61</td>\n    </tr>\n    <tr>\n      <th>86</th>\n      <td>LALPATHLAB</td>\n      <td>EQ</td>\n      <td>2019-05-08</td>\n      <td>1013.10</td>\n      <td>1014.00</td>\n      <td>1019.85</td>\n      <td>1001.90</td>\n      <td>1002.00</td>\n      <td>1006.10</td>\n      <td>1010.90</td>\n      <td>18048</td>\n      <td>1.824473e+07</td>\n      <td>4175</td>\n      <td>11239</td>\n      <td>62.27</td>\n    </tr>\n    <tr>\n      <th>87</th>\n      <td>LALPATHLAB</td>\n      <td>EQ</td>\n      <td>2019-05-09</td>\n      <td>1006.10</td>\n      <td>1014.00</td>\n      <td>1014.00</td>\n      <td>977.70</td>\n      <td>979.90</td>\n      <td>982.90</td>\n      <td>987.36</td>\n      <td>60539</td>\n      <td>5.977355e+07</td>\n      <td>8169</td>\n      <td>37303</td>\n      <td>61.62</td>\n    </tr>\n    <tr>\n      <th>88</th>\n      <td>LALPATHLAB</td>\n      <td>EQ</td>\n      <td>2019-05-10</td>\n      <td>982.90</td>\n      <td>989.90</td>\n      <td>994.30</td>\n      <td>963.60</td>\n      <td>980.00</td>\n      <td>980.65</td>\n      <td>980.71</td>\n      <td>30568</td>\n      <td>2.997840e+07</td>\n      <td>4618</td>\n      <td>19097</td>\n      <td>62.47</td>\n    </tr>\n    <tr>\n      <th>89</th>\n      <td>LALPATHLAB</td>\n      <td>EQ</td>\n      <td>2019-05-13</td>\n      <td>980.65</td>\n      <td>970.80</td>\n      <td>996.00</td>\n      <td>960.00</td>\n      <td>975.00</td>\n      <td>976.25</td>\n      <td>974.21</td>\n      <td>37187</td>\n      <td>3.622810e+07</td>\n      <td>6798</td>\n      <td>23772</td>\n      <td>63.93</td>\n    </tr>\n  </tbody>\n</table>\n<p>90 rows × 15 columns</p>\n</div>"
     },
     "metadata": {},
     "execution_count": 12
    }
   ],
   "source": [
    "new_df = new_df.reset_index(drop = 'first')\n",
    "new_df"
   ]
  },
  {
   "cell_type": "code",
   "execution_count": 13,
   "metadata": {},
   "outputs": [
    {
     "output_type": "stream",
     "name": "stdout",
     "text": [
      "Maximum price of last 90 days: 1089.5\n"
     ]
    }
   ],
   "source": [
    "#maximum price for the last 90 days\n",
    "print(f\"Maximum price of last 90 days: {max(new_df['Close Price'])}\")"
   ]
  },
  {
   "cell_type": "code",
   "execution_count": 14,
   "metadata": {},
   "outputs": [
    {
     "output_type": "stream",
     "name": "stdout",
     "text": [
      "Minimum price of last 90 days: 910.3\n"
     ]
    }
   ],
   "source": [
    "#minimum price for the last 90 days\n",
    "print(f\"Minimum price of last 90 days: {min(new_df['Close Price'])}\")"
   ]
  },
  {
   "cell_type": "code",
   "execution_count": 15,
   "metadata": {},
   "outputs": [
    {
     "output_type": "stream",
     "name": "stdout",
     "text": [
      "Mean price of last 90 days: 1027.5994444444443\n"
     ]
    }
   ],
   "source": [
    "#mean price for the last 90 days\n",
    "print(f\"Mean price of last 90 days: {new_df['Close Price'].mean()}\")"
   ]
  },
  {
   "cell_type": "markdown",
   "metadata": {},
   "source": [
    "#### 1.3"
   ]
  },
  {
   "cell_type": "code",
   "execution_count": 16,
   "metadata": {},
   "outputs": [],
   "source": [
    "#subracting the min date from the max date\n",
    "dt = max(dataset['Date']) - min(dataset['Date'])"
   ]
  },
  {
   "cell_type": "code",
   "execution_count": 17,
   "metadata": {},
   "outputs": [
    {
     "output_type": "execute_result",
     "data": {
      "text/plain": [
       "Timedelta('728 days 00:00:00')"
      ]
     },
     "metadata": {},
     "execution_count": 17
    }
   ],
   "source": [
    "dt"
   ]
  },
  {
   "cell_type": "markdown",
   "metadata": {},
   "source": [
    "#### 1.4"
   ]
  },
  {
   "cell_type": "markdown",
   "metadata": {},
   "source": [
    "#### Calculating the VWAP"
   ]
  },
  {
   "cell_type": "code",
   "execution_count": 18,
   "metadata": {
    "scrolled": true
   },
   "outputs": [
    {
     "output_type": "execute_result",
     "data": {
      "text/plain": [
       "(494, 15)"
      ]
     },
     "metadata": {},
     "execution_count": 18
    }
   ],
   "source": [
    "vwap_df = dataset.copy()\n",
    "vwap_df.rename(columns = {'Average Price':'AveragePrice','Total Traded Quantity':'TotalTradedQuantity'},inplace = True)\n",
    "vwap_df.shape"
   ]
  },
  {
   "cell_type": "code",
   "execution_count": 19,
   "metadata": {},
   "outputs": [],
   "source": [
    "vwap_df['Month'] = vwap_df[\"Date\"].dt.month\n",
    "vwap_df['Year'] = vwap_df[\"Date\"].dt.year"
   ]
  },
  {
   "cell_type": "code",
   "execution_count": 20,
   "metadata": {
    "scrolled": true
   },
   "outputs": [
    {
     "output_type": "execute_result",
     "data": {
      "text/plain": [
       "(494, 17)"
      ]
     },
     "metadata": {},
     "execution_count": 20
    }
   ],
   "source": [
    "vwap_df.shape"
   ]
  },
  {
   "cell_type": "code",
   "execution_count": 21,
   "metadata": {
    "scrolled": true
   },
   "outputs": [],
   "source": [
    "def vwap(vwap_grp):\n",
    "    p = vwap_grp.AveragePrice.values\n",
    "    q = vwap_grp.TotalTradedQuantity.values\n",
    "    return vwap_grp.assign(vwap=sum((p * q)) / sum(q))\n",
    "vwap_grp = vwap_df.groupby([\"Month\"],group_keys=False).apply(vwap)\n",
    "vwap_grp = vwap_grp.groupby(\"Month\")"
   ]
  },
  {
   "cell_type": "code",
   "execution_count": 22,
   "metadata": {
    "scrolled": true
   },
   "outputs": [],
   "source": [
    "lis = list(vwap_grp['vwap'])\n",
    "a = []\n",
    "for i in range(12):\n",
    "    v = list(lis[i][1])[0]\n",
    "    a.append(v)"
   ]
  },
  {
   "cell_type": "code",
   "execution_count": 23,
   "metadata": {
    "scrolled": false
   },
   "outputs": [
    {
     "output_type": "execute_result",
     "data": {
      "text/plain": [
       "    Month         VWAP\n",
       "0       1   938.883603\n",
       "1       2  1002.843217\n",
       "2       3   978.449271\n",
       "3       4   949.841653\n",
       "4       5   893.852229\n",
       "5       6   846.074677\n",
       "6       7   861.776852\n",
       "7       8   917.657427\n",
       "8       9   894.639309\n",
       "9      10   817.492716\n",
       "10     11   866.855692\n",
       "11     12   915.242033"
      ],
      "text/html": "<div>\n<style scoped>\n    .dataframe tbody tr th:only-of-type {\n        vertical-align: middle;\n    }\n\n    .dataframe tbody tr th {\n        vertical-align: top;\n    }\n\n    .dataframe thead th {\n        text-align: right;\n    }\n</style>\n<table border=\"1\" class=\"dataframe\">\n  <thead>\n    <tr style=\"text-align: right;\">\n      <th></th>\n      <th>Month</th>\n      <th>VWAP</th>\n    </tr>\n  </thead>\n  <tbody>\n    <tr>\n      <th>0</th>\n      <td>1</td>\n      <td>938.883603</td>\n    </tr>\n    <tr>\n      <th>1</th>\n      <td>2</td>\n      <td>1002.843217</td>\n    </tr>\n    <tr>\n      <th>2</th>\n      <td>3</td>\n      <td>978.449271</td>\n    </tr>\n    <tr>\n      <th>3</th>\n      <td>4</td>\n      <td>949.841653</td>\n    </tr>\n    <tr>\n      <th>4</th>\n      <td>5</td>\n      <td>893.852229</td>\n    </tr>\n    <tr>\n      <th>5</th>\n      <td>6</td>\n      <td>846.074677</td>\n    </tr>\n    <tr>\n      <th>6</th>\n      <td>7</td>\n      <td>861.776852</td>\n    </tr>\n    <tr>\n      <th>7</th>\n      <td>8</td>\n      <td>917.657427</td>\n    </tr>\n    <tr>\n      <th>8</th>\n      <td>9</td>\n      <td>894.639309</td>\n    </tr>\n    <tr>\n      <th>9</th>\n      <td>10</td>\n      <td>817.492716</td>\n    </tr>\n    <tr>\n      <th>10</th>\n      <td>11</td>\n      <td>866.855692</td>\n    </tr>\n    <tr>\n      <th>11</th>\n      <td>12</td>\n      <td>915.242033</td>\n    </tr>\n  </tbody>\n</table>\n</div>"
     },
     "metadata": {},
     "execution_count": 23
    }
   ],
   "source": [
    "dect = {\"Month\":[1,2,3,4,5,6,7,8,9,10,11,12],\"VWAP\":a}\n",
    "vwap = pd.DataFrame(dect)\n",
    "vwap"
   ]
  },
  {
   "cell_type": "code",
   "execution_count": 24,
   "metadata": {},
   "outputs": [
    {
     "output_type": "execute_result",
     "data": {
      "text/plain": [
       "(494, 17)"
      ]
     },
     "metadata": {},
     "execution_count": 24
    }
   ],
   "source": [
    "vwap_df.shape"
   ]
  },
  {
   "cell_type": "markdown",
   "metadata": {},
   "source": [
    "#### 1.5"
   ]
  },
  {
   "cell_type": "code",
   "execution_count": 25,
   "metadata": {},
   "outputs": [],
   "source": [
    "def conversion(s):\n",
    "    a = s.split()\n",
    "    if a[1].lower()=='day' or a[1].lower()=='days':\n",
    "        return int(a[0])\n",
    "    if a[1].lower()=='weeks' or a[1].lower()=='week':\n",
    "        d = 7*int(a[0])\n",
    "    if a[1].lower()=='month' or a[1].lower()=='months':\n",
    "        d = 30*int(a[0])\n",
    "    if a[1].lower()=='years' or a[1].lower()=='year':\n",
    "        d = 365*int(a[0])\n",
    "    return d"
   ]
  },
  {
   "cell_type": "code",
   "execution_count": 26,
   "metadata": {},
   "outputs": [],
   "source": [
    "# Calculating the average price of N days\n",
    "#Data is already sorted(Datewise) -->just taking the last N columns of dataframe\n",
    "def Average_price(N):\n",
    "    ind = dataset.shape[0]-N\n",
    "    df1 = dataset.iloc[ind:,:]\n",
    "    result = df1[\"Close Price\"].mean()\n",
    "    return f\"Average price over the last {N} days: {result}\""
   ]
  },
  {
   "cell_type": "code",
   "execution_count": 27,
   "metadata": {},
   "outputs": [],
   "source": [
    "def Profit_loss(N):\n",
    "    ind = dataset.shape[0]-N\n",
    "    df2 = dataset.iloc[ind:,:]\n",
    "    ar = []\n",
    "    arr = df2[\"Close Price\"].values\n",
    "    for i in range(0,len(arr)-1):\n",
    "        per = ((arr[i+1]-arr[i])/arr[i])*100\n",
    "        ar.append(per)\n",
    "    return f\"Profit/Loss of {N} days: {((sum(ar)/len(ar))*100)} %\""
   ]
  },
  {
   "cell_type": "code",
   "execution_count": 28,
   "metadata": {},
   "outputs": [
    {
     "output_type": "stream",
     "name": "stdout",
     "text": [
      "Average price over the last 7 days: 1004.0428571428571 \n Profit/Loss of 7 days: -111.4707925672038 % \n\nAverage price over the last 14 days: 1031.0035714285716 \n Profit/Loss of 14 days: -60.498159461013046 % \n\nAverage price over the last 30 days: 1037.0016666666666 \n Profit/Loss of 30 days: -30.925004809742617 % \n\nAverage price over the last 90 days: 1027.5994444444443 \n Profit/Loss of 90 days: 9.716290845092862 % \n\nAverage price over the last 180 days: 985.4244444444446 \n Profit/Loss of 180 days: 2.500569158564406 % \n\nAverage price over the last 365 days: 936.9046575342464 \n Profit/Loss of 365 days: 3.709410507257333 % \n\n"
     ]
    }
   ],
   "source": [
    "#n = input(\"Enter the period: \")\n",
    "period = [\"1 week\",'2 weeks',\"1 month\",\"3 months\",\"6 months\",\"1 year\"]\n",
    "for i in period:\n",
    "    days = conversion(i)\n",
    "    print(Average_price(days),'\\n',Profit_loss(days),'\\n')"
   ]
  },
  {
   "cell_type": "markdown",
   "metadata": {},
   "source": [
    "#### 1.6"
   ]
  },
  {
   "cell_type": "code",
   "execution_count": 29,
   "metadata": {},
   "outputs": [
    {
     "output_type": "execute_result",
     "data": {
      "text/plain": [
       "(494, 17)"
      ]
     },
     "metadata": {},
     "execution_count": 29
    }
   ],
   "source": [
    "final_df = vwap_df.iloc[:,0:17].copy()\n",
    "final_df.shape"
   ]
  },
  {
   "cell_type": "code",
   "execution_count": 30,
   "metadata": {
    "scrolled": true
   },
   "outputs": [
    {
     "output_type": "execute_result",
     "data": {
      "text/plain": [
       "(494, 18)"
      ]
     },
     "metadata": {},
     "execution_count": 30
    }
   ],
   "source": [
    "final_df[\"Day_Perc_Change\"] = final_df['Close Price'].pct_change()*100\n",
    "final_df[\"Day_Perc_Change\"] = final_df[\"Day_Perc_Change\"].fillna(0)\n",
    "final_df.head(100)\n",
    "final_df.shape"
   ]
  },
  {
   "cell_type": "markdown",
   "metadata": {},
   "source": [
    "#### 1.7"
   ]
  },
  {
   "cell_type": "code",
   "execution_count": 31,
   "metadata": {
    "scrolled": true
   },
   "outputs": [
    {
     "output_type": "execute_result",
     "data": {
      "text/plain": [
       "       Symbol Series       Date  Prev Close  Open Price  High Price  \\\n",
       "0  LALPATHLAB     EQ 2017-05-15      891.15      895.00      914.15   \n",
       "1  LALPATHLAB     EQ 2017-05-16      900.60      910.00      925.00   \n",
       "2  LALPATHLAB     EQ 2017-05-17      910.95      913.00      925.00   \n",
       "3  LALPATHLAB     EQ 2017-05-18      911.70      908.00      919.35   \n",
       "4  LALPATHLAB     EQ 2017-05-19      909.75      917.00      917.00   \n",
       "5  LALPATHLAB     EQ 2017-05-22      910.25      909.00      914.00   \n",
       "6  LALPATHLAB     EQ 2017-05-23      909.85      913.95      913.95   \n",
       "7  LALPATHLAB     EQ 2017-05-24      886.90      886.90      903.05   \n",
       "8  LALPATHLAB     EQ 2017-05-25      894.70      897.90      901.00   \n",
       "9  LALPATHLAB     EQ 2017-05-26      898.25      903.45      907.90   \n",
       "\n",
       "   Low Price  Last Price  Close Price  AveragePrice  TotalTradedQuantity  \\\n",
       "0     881.00      912.00       900.60        889.35               257655   \n",
       "1     895.05      909.40       910.95        914.57               104896   \n",
       "2     909.00      912.05       911.70        917.19                72460   \n",
       "3     903.05      906.00       909.75        914.12                37707   \n",
       "4     905.80      910.00       910.25        910.61                81082   \n",
       "5     905.00      907.40       909.85        909.89               150085   \n",
       "6     875.00      890.00       886.90        899.58               201776   \n",
       "7     883.80      893.00       894.70        895.74                84241   \n",
       "8     894.25      898.20       898.25        899.80               241232   \n",
       "9     880.00      888.00       893.70        898.82                75168   \n",
       "\n",
       "       Turnover  No. of Trades  Deliverable Qty  % Dly Qt to Traded Qty  \\\n",
       "0  2.291453e+08          15451           174775                   67.83   \n",
       "1  9.593430e+07          13001            75813                   72.27   \n",
       "2  6.645960e+07           2802            53829                   74.29   \n",
       "3  3.446889e+07           2731            24836                   65.87   \n",
       "4  7.383375e+07           4430            69926                   86.24   \n",
       "5  1.365613e+08           3350           136057                   90.65   \n",
       "6  1.815139e+08           7913           167269                   82.90   \n",
       "7  7.545772e+07           4014            67593                   80.24   \n",
       "8  2.170599e+08           4535           219442                   90.97   \n",
       "9  6.756225e+07           7428            57741                   76.82   \n",
       "\n",
       "   Month  Year  Day_Perc_Change                Trend  \n",
       "0      5  2017         0.000000  Slight or No change  \n",
       "1      5  2017         1.149234             Positive  \n",
       "2      5  2017         0.082332  Slight or No change  \n",
       "3      5  2017        -0.213886  Slight or No change  \n",
       "4      5  2017         0.054960  Slight or No change  \n",
       "5      5  2017        -0.043944  Slight or No change  \n",
       "6      5  2017        -2.522394             Negative  \n",
       "7      5  2017         0.879468      Slight positive  \n",
       "8      5  2017         0.396781  Slight or No change  \n",
       "9      5  2017        -0.506540      Slight negative  "
      ],
      "text/html": "<div>\n<style scoped>\n    .dataframe tbody tr th:only-of-type {\n        vertical-align: middle;\n    }\n\n    .dataframe tbody tr th {\n        vertical-align: top;\n    }\n\n    .dataframe thead th {\n        text-align: right;\n    }\n</style>\n<table border=\"1\" class=\"dataframe\">\n  <thead>\n    <tr style=\"text-align: right;\">\n      <th></th>\n      <th>Symbol</th>\n      <th>Series</th>\n      <th>Date</th>\n      <th>Prev Close</th>\n      <th>Open Price</th>\n      <th>High Price</th>\n      <th>Low Price</th>\n      <th>Last Price</th>\n      <th>Close Price</th>\n      <th>AveragePrice</th>\n      <th>TotalTradedQuantity</th>\n      <th>Turnover</th>\n      <th>No. of Trades</th>\n      <th>Deliverable Qty</th>\n      <th>% Dly Qt to Traded Qty</th>\n      <th>Month</th>\n      <th>Year</th>\n      <th>Day_Perc_Change</th>\n      <th>Trend</th>\n    </tr>\n  </thead>\n  <tbody>\n    <tr>\n      <th>0</th>\n      <td>LALPATHLAB</td>\n      <td>EQ</td>\n      <td>2017-05-15</td>\n      <td>891.15</td>\n      <td>895.00</td>\n      <td>914.15</td>\n      <td>881.00</td>\n      <td>912.00</td>\n      <td>900.60</td>\n      <td>889.35</td>\n      <td>257655</td>\n      <td>2.291453e+08</td>\n      <td>15451</td>\n      <td>174775</td>\n      <td>67.83</td>\n      <td>5</td>\n      <td>2017</td>\n      <td>0.000000</td>\n      <td>Slight or No change</td>\n    </tr>\n    <tr>\n      <th>1</th>\n      <td>LALPATHLAB</td>\n      <td>EQ</td>\n      <td>2017-05-16</td>\n      <td>900.60</td>\n      <td>910.00</td>\n      <td>925.00</td>\n      <td>895.05</td>\n      <td>909.40</td>\n      <td>910.95</td>\n      <td>914.57</td>\n      <td>104896</td>\n      <td>9.593430e+07</td>\n      <td>13001</td>\n      <td>75813</td>\n      <td>72.27</td>\n      <td>5</td>\n      <td>2017</td>\n      <td>1.149234</td>\n      <td>Positive</td>\n    </tr>\n    <tr>\n      <th>2</th>\n      <td>LALPATHLAB</td>\n      <td>EQ</td>\n      <td>2017-05-17</td>\n      <td>910.95</td>\n      <td>913.00</td>\n      <td>925.00</td>\n      <td>909.00</td>\n      <td>912.05</td>\n      <td>911.70</td>\n      <td>917.19</td>\n      <td>72460</td>\n      <td>6.645960e+07</td>\n      <td>2802</td>\n      <td>53829</td>\n      <td>74.29</td>\n      <td>5</td>\n      <td>2017</td>\n      <td>0.082332</td>\n      <td>Slight or No change</td>\n    </tr>\n    <tr>\n      <th>3</th>\n      <td>LALPATHLAB</td>\n      <td>EQ</td>\n      <td>2017-05-18</td>\n      <td>911.70</td>\n      <td>908.00</td>\n      <td>919.35</td>\n      <td>903.05</td>\n      <td>906.00</td>\n      <td>909.75</td>\n      <td>914.12</td>\n      <td>37707</td>\n      <td>3.446889e+07</td>\n      <td>2731</td>\n      <td>24836</td>\n      <td>65.87</td>\n      <td>5</td>\n      <td>2017</td>\n      <td>-0.213886</td>\n      <td>Slight or No change</td>\n    </tr>\n    <tr>\n      <th>4</th>\n      <td>LALPATHLAB</td>\n      <td>EQ</td>\n      <td>2017-05-19</td>\n      <td>909.75</td>\n      <td>917.00</td>\n      <td>917.00</td>\n      <td>905.80</td>\n      <td>910.00</td>\n      <td>910.25</td>\n      <td>910.61</td>\n      <td>81082</td>\n      <td>7.383375e+07</td>\n      <td>4430</td>\n      <td>69926</td>\n      <td>86.24</td>\n      <td>5</td>\n      <td>2017</td>\n      <td>0.054960</td>\n      <td>Slight or No change</td>\n    </tr>\n    <tr>\n      <th>5</th>\n      <td>LALPATHLAB</td>\n      <td>EQ</td>\n      <td>2017-05-22</td>\n      <td>910.25</td>\n      <td>909.00</td>\n      <td>914.00</td>\n      <td>905.00</td>\n      <td>907.40</td>\n      <td>909.85</td>\n      <td>909.89</td>\n      <td>150085</td>\n      <td>1.365613e+08</td>\n      <td>3350</td>\n      <td>136057</td>\n      <td>90.65</td>\n      <td>5</td>\n      <td>2017</td>\n      <td>-0.043944</td>\n      <td>Slight or No change</td>\n    </tr>\n    <tr>\n      <th>6</th>\n      <td>LALPATHLAB</td>\n      <td>EQ</td>\n      <td>2017-05-23</td>\n      <td>909.85</td>\n      <td>913.95</td>\n      <td>913.95</td>\n      <td>875.00</td>\n      <td>890.00</td>\n      <td>886.90</td>\n      <td>899.58</td>\n      <td>201776</td>\n      <td>1.815139e+08</td>\n      <td>7913</td>\n      <td>167269</td>\n      <td>82.90</td>\n      <td>5</td>\n      <td>2017</td>\n      <td>-2.522394</td>\n      <td>Negative</td>\n    </tr>\n    <tr>\n      <th>7</th>\n      <td>LALPATHLAB</td>\n      <td>EQ</td>\n      <td>2017-05-24</td>\n      <td>886.90</td>\n      <td>886.90</td>\n      <td>903.05</td>\n      <td>883.80</td>\n      <td>893.00</td>\n      <td>894.70</td>\n      <td>895.74</td>\n      <td>84241</td>\n      <td>7.545772e+07</td>\n      <td>4014</td>\n      <td>67593</td>\n      <td>80.24</td>\n      <td>5</td>\n      <td>2017</td>\n      <td>0.879468</td>\n      <td>Slight positive</td>\n    </tr>\n    <tr>\n      <th>8</th>\n      <td>LALPATHLAB</td>\n      <td>EQ</td>\n      <td>2017-05-25</td>\n      <td>894.70</td>\n      <td>897.90</td>\n      <td>901.00</td>\n      <td>894.25</td>\n      <td>898.20</td>\n      <td>898.25</td>\n      <td>899.80</td>\n      <td>241232</td>\n      <td>2.170599e+08</td>\n      <td>4535</td>\n      <td>219442</td>\n      <td>90.97</td>\n      <td>5</td>\n      <td>2017</td>\n      <td>0.396781</td>\n      <td>Slight or No change</td>\n    </tr>\n    <tr>\n      <th>9</th>\n      <td>LALPATHLAB</td>\n      <td>EQ</td>\n      <td>2017-05-26</td>\n      <td>898.25</td>\n      <td>903.45</td>\n      <td>907.90</td>\n      <td>880.00</td>\n      <td>888.00</td>\n      <td>893.70</td>\n      <td>898.82</td>\n      <td>75168</td>\n      <td>6.756225e+07</td>\n      <td>7428</td>\n      <td>57741</td>\n      <td>76.82</td>\n      <td>5</td>\n      <td>2017</td>\n      <td>-0.506540</td>\n      <td>Slight negative</td>\n    </tr>\n  </tbody>\n</table>\n</div>"
     },
     "metadata": {},
     "execution_count": 31
    }
   ],
   "source": [
    "trend_values = [\"Slight or No change\",\"Slight positive\",\"Slight negative\",\"Positive\",\"Negative\",\"Among top gainers\",\"Among top loosers\",\"Bull run\",\"Bear drop\"]\n",
    "Trend = []\n",
    "for i in final_df[\"Day_Perc_Change\"].values:\n",
    "    if i> -0.5 and i<0.5:\n",
    "        Trend.append(trend_values[0])\n",
    "    if i>0.5 and i<1:\n",
    "        Trend.append(trend_values[1])\n",
    "    if i< -0.5 and i> -1:\n",
    "        Trend.append(trend_values[2])\n",
    "    if i>1 and i<3:\n",
    "        Trend.append(trend_values[3])\n",
    "    if i< -1 and i> -3:\n",
    "        Trend.append(trend_values[4])\n",
    "    if i>3 and i<7:\n",
    "        Trend.append(trend_values[5])\n",
    "    if i< -3 and i> -7:\n",
    "        Trend.append(trend_values[6])\n",
    "    if i>7:\n",
    "        Trend.append(trend_values[7])\n",
    "    if i< -7:\n",
    "        Trend.append(trend_values[8])\n",
    "final_df[\"Trend\"] = Trend\n",
    "final_df.head(10)"
   ]
  },
  {
   "cell_type": "markdown",
   "metadata": {},
   "source": [
    "#### 1.8"
   ]
  },
  {
   "cell_type": "code",
   "execution_count": 32,
   "metadata": {},
   "outputs": [
    {
     "output_type": "stream",
     "name": "stdout",
     "text": [
      "                              mean  median\nTrend                                     \nAmong top gainers    186722.960000  110923\nAmong top loosers    258606.000000   63332\nBull run             722199.000000  722199\nNegative              83712.237624   53858\nPositive              82095.849315   55105\nSlight negative       63297.000000   41099\nSlight or No change   67316.444444   40710\nSlight positive       87609.452381   45531\n"
     ]
    }
   ],
   "source": [
    "grouped = final_df.groupby(\"Trend\")\n",
    "print(grouped[\"TotalTradedQuantity\"].agg([np.mean,np.median]))"
   ]
  },
  {
   "cell_type": "markdown",
   "metadata": {},
   "source": [
    "#### 1.9"
   ]
  },
  {
   "cell_type": "code",
   "execution_count": 33,
   "metadata": {},
   "outputs": [],
   "source": [
    "final_df.to_csv('week2.csv')"
   ]
  },
  {
   "cell_type": "code",
   "execution_count": null,
   "metadata": {},
   "outputs": [],
   "source": []
  }
 ],
 "metadata": {
  "kernelspec": {
   "display_name": "Python 3",
   "language": "python",
   "name": "python3"
  },
  "language_info": {
   "codemirror_mode": {
    "name": "ipython",
    "version": 3
   },
   "file_extension": ".py",
   "mimetype": "text/x-python",
   "name": "python",
   "nbconvert_exporter": "python",
   "pygments_lexer": "ipython3",
   "version": "3.8.5-final"
  }
 },
 "nbformat": 4,
 "nbformat_minor": 4
}